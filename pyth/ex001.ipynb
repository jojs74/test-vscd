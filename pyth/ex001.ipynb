{
 "cells": [
  {
   "cell_type": "code",
   "execution_count": 1,
   "metadata": {},
   "outputs": [
    {
     "name": "stdout",
     "output_type": "stream",
     "text": [
      "tenho 47 anos e estou pesando: 81.5 Kg\n"
     ]
    }
   ],
   "source": [
    "a = int (input('digite sua idade'));\n",
    "b = float (input('digite seu peso'));\n",
    "print('tenho', a , 'anos', 'e estou pesando:', b, 'Kg')"
   ]
  }
 ],
 "metadata": {
  "interpreter": {
   "hash": "237beb9d23a358e2d8ebcdfba5b306b10b9d0c5787aa86a025d7ba9f33bb4415"
  },
  "kernelspec": {
   "display_name": "Python 3.8.8 64-bit ('base': conda)",
   "language": "python",
   "name": "python3"
  },
  "language_info": {
   "codemirror_mode": {
    "name": "ipython",
    "version": 3
   },
   "file_extension": ".py",
   "mimetype": "text/x-python",
   "name": "python",
   "nbconvert_exporter": "python",
   "pygments_lexer": "ipython3",
   "version": "3.8.8"
  },
  "orig_nbformat": 4
 },
 "nbformat": 4,
 "nbformat_minor": 2
}
